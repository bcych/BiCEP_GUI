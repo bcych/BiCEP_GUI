{
 "cells": [
  {
   "cell_type": "markdown",
   "metadata": {},
   "source": [
    "# BiCEP GUI Readme\n",
    "\n",
    "## Information\n",
    "\n",
    "- BiCEP GUI is a graphical user interface for the BiCEP method of estimation paleointensity (Cych et al, in prep) using jupyter, ipywidgets, and voila. On the backend, BiCEP uses the python version of stan (pystan).\n",
    "\n",
    "- Planned features include: Changing orientation of Zijderveld plot, ability to save figures separately.\n",
    "\n",
    "## Setup\n",
    "\n",
    "- To use BiCEP GUI, we recommend using the Earthref jupyterhub at http://jupyterhub.earthref.org. To run the GUI from this site, first run the Bicep-GUI-Setup notebook by clicking on this and pressing the run button until you reach the end of the notebook. Note that this setup may take several minutes.\n",
    "\n",
    "![Run button in jupyterhub](https://raw.githubusercontent.com/bcych/BiCEP_GUI/master/readme-image/jupyterhub-run.png)\n",
    "\n",
    "- You will then have a directory called BiCEP_GUI in your jupyterhub. Navigate to this.\n",
    "\n",
    "- Before using BiCEP GUI on your own data, you will need to upload MagIC formatted files containing your paleointensity data. You create these files using pmag_gui, part of the PmagPy package. For help with this, see the tutorial at https://github.com/ltauxe/PmagPy_tutorials\n",
    "\n",
    "- Upload your measurements.txt, specimens.txt, samples.txt and sites.txt files to the BiCEP_GUI directory using the upload button in jupyterhub.\n",
    "\n",
    "![Upload button in jupyterhub](https://raw.githubusercontent.com/bcych/BiCEP_GUI/master/readme-image/jupyterhub-upload.png)\n",
    "\n",
    "## Using BiCEP GUI\n",
    "\n",
    "- Open the BiCEP GUI notebook in your folder. Press the \"App Mode\" button to launch the GUI.\n",
    "\n",
    "- Your MagIC data will automatically be converted to the BiCEP format. A logfile will be output to thellier_convert.log which you can check for errors.\n",
    "\n",
    "![Upload button in jupyterhub](https://raw.githubusercontent.com/bcych/BiCEP_GUI/master/readme-image/jupyterhub-appmode.png)\n",
    "\n",
    "- On launch you should have a GUI with the following layout:\n",
    "\n",
    "![GUI layout](https://raw.githubusercontent.com/bcych/BiCEP_GUI/master/readme-image/GUI_layout.png)\n",
    "\n",
    "1. File selection button. Press select, choose your file, and press select again. Then press \"Run\" to import the data to the GUI. You cannot then select a new file.\n",
    "\n",
    "2. Site and specimen dropdowns. These dropdown menus allow you choose a particular paleointensity experiment.\n",
    "\n",
    "3. Minimum and maximum temperature steps (in Celcius) to use for the paleointensity experiment. We recommend using the Zijderveld plot (6.) and pTRM checks to choose which set of temperatures to use. By default, we use all temperature steps to make a paleointensity estimate. Currently it is required to make an estimate for all specimens.\n",
    "\n",
    "4. Statistics about the direction and alteration of the ChRM used for paleointensity estimation. These may help with choosing which set of temperature steps to use. See the standard paleointensity definitons (Paterson et al, 2014, https://earthref.org/PmagPy/SPD/DL/SPD_v1.1.pdf) for more information on these statistics. In addition to these statistics, we present the worst R_hat diagnostic for a specimen. If R_hat>1.1 or R_hat<0.9, it may indicate an issue with the sampler (see 13.). In this case, this box will show up as red, and the specimen may be excluded using the checkbox (8.))\n",
    "\n",
    "4. Arai plot with zero field first steps plotted as red circles, in field first steps plotted as blue circles, pTRM checks plotted as triangles, and pTRM tail checks plotted as squares. Additivity checks are not currently plotted. Circle fits from the BiCEP method will be plotted as green lines under the Arai plot after the site fit (9) has been performed. All plots can be rescaled using the \"move\" button (3rd symbol from the bottom on left side of plot) and right clicking and dragging, or the \"zoom\" button (2nd symbol from the bottom) and left clicking and dragging to zoom in, or right clicking and dragging to zoom out. The \"home\" button (second symbol from the top) resets the plot axis, as does changing the temperatures.\n",
    "\n",
    "5. Zijderveld plot of the data, with x,y plotted as black circles and x,z plotted as red squares.\n",
    "\n",
    "7. Saves the temperatures used for that specimen to RAM. This must be done for each specimen individually to change temperatures before running the sampler (9.). By default, all temperature steps are used for every specimen.\n",
    "\n",
    "8. Checkbox for excluding a specimen. This should only be done if there is no reasonable interpretation of the specimen (e.g. alteration at low temperature, not demagnetizing to the origin).\n",
    "\n",
    "9. The \"Process Site Data\" button performs the BiCEP method on that site and calculates the site level paleointensity. Depending on the speed of your computer and the sampler parameters used (10), this may take a while to run, especially for sites with many specimens. Please be patient.\n",
    "\n",
    "10. Parameters for the MCMC sampler for the BiCEP method. The \"n samples\" slider increases the number of samples used in the MCMC sampler. Smaller numbers will take less time to run but result in lower accuracy in the resulting probability distribution. The \"Sampler\" button changes the parameterization of the MCMC sampler slightly (mathematically, the model is the same, but the parameters being sampled from are specified slightly differently). The \"Slow, more accurate\" sampler is much slower than the \"Fast, less accurate\" sampler, but generally (though not always) results in better sampler diagnostics than the \"Fast, less accurate\" sampler, particularly for sites with small numbers of specimens.\n",
    "\n",
    "11. Plot of the estimated paleointensity for each specimen against Arai plot curvature. The currently displayed specimen in the Arai and Zijderveld plots has a red circle around it in this plot. The blue lines are samples from the posterior distribution for the relationship between specimen level paleointensity and curvature. The y intercept is the estimated site level paleointensity.\n",
    "\n",
    "12. Histogram of the site level paleointensities sampled from the posterior distribution. This corresponds to the distribution of intercepts of the blue lines in (11.).\n",
    "\n",
    "13. Diagnostics for the MCMC sampler (see Cych et al, in prep. or the Stan Documentation at https://mc-stan.org/docs/2_26/reference-manual/notation-for-samples-chains-and-draws.html, https://mc-stan.org/docs/2_26/reference-manual/effective-sample-size-section.html). 0.9<R_hat<1.1 and n_eff>1000 is desired, with R_hat=1.00 and n_eff>10000 being ideal. Tweak the sampler parameters (10.) or measure more specimens if these parameters give poor results (indicated by an amber color for n_eff<1000 or a red color for bad R_hat). Also displayed here is the 95% credible interval for the site and the Category (see Cych et al once again for an explanation). The color of the category box indicates how to proceed. Green (Category A or B): accept site, Amber (Category C or D): measure more specimens, Red (Category D): ignore site.\n",
    "\n",
    "14. Saves figures to file. Currently the Zijderveld plot and Arai plot have to be saved together (as do both site plots).\n",
    "\n",
    "15. Saves the results from the BiCEP method to the MagIC tables (site and specimen tables are altered).\n",
    "\n",
    "## Attributions\n",
    "\n",
    "Paterson, G. A., L. Tauxe, A. J. Biggin, R. Shaar, and L. C. Jonestrask (2014), On improving the selection of Thellier-type paleointensity data, Geochem. Geophys. Geosyst., doi: 10.1002/2013GC005135\n",
    "\n",
    "Stan Development Team. 2021. Stan Modeling Language Users Guide and Reference Manual, 2.26. https://mc-stan.org\n",
    "\n",
    "Tauxe, L., R. Shaar, L. Jonestrask, N. L. Swanson-Hysell, R. Minnett, A. A. P. Koppers, C. G. Constable, N. Jarboe, K. Gaastra, and L. Fairchild (2016), PmagPy: Software package for paleomagnetic data analysis and a bridge to the Magnetics Information Consortium (MagIC) Database, Geochem. Geophys. Geosyst., 17, doi:10.1002/2016GC006307\n",
    "\n",
    "## Licensing\n",
    "PmagPy and Stan are licensed under a 3-clause BSD license. See (https://opensource.org/licenses/BSD-3-Clause)\n",
    "\n",
    "## Contact\n",
    "If you have any issues with this software, feature requests or want to collaborate, feel free to correspond with me at bcych@ucsd.edu or leave an issue or feature request on the github at http://github.com/bcych/BiCEP_GUI\n",
    "\n",
    "## Attributions\n",
    "\n",
    "Paterson, G. A., L. Tauxe, A. J. Biggin, R. Shaar, and L. C. Jonestrask (2014), On improving the selection of Thellier-type paleointensity data, Geochem. Geophys. Geosyst., doi: 10.1002/2013GC005135\n",
    "\n",
    "Stan Development Team. 2021. Stan Modeling Language Users Guide and Reference Manual, 2.26. https://mc-stan.org\n",
    "\n",
    "Tauxe, L., R. Shaar, L. Jonestrask, N. L. Swanson-Hysell, R. Minnett, A. A. P. Koppers, C. G. Constable, N. Jarboe, K. Gaastra, and L. Fairchild (2016), PmagPy: Software package for paleomagnetic data analysis and a bridge to the Magnetics Information Consortium (MagIC) Database, Geochem. Geophys. Geosyst., 17, doi:10.1002/2016GC006307\n",
    "\n",
    "## Licensing\n",
    "PmagPy and Stan are licensed under a 3-clause BSD license. See (https://opensource.org/licenses/BSD-3-Clause)\n",
    "\n",
    "## Contact\n",
    "If you have any issues with this software, feature requests or want to collaborate, feel free to correspond with me at bcych@ucsd.edu or leave an issue or feature request on the github at http://github.com/bcych/BiCEP_GUI\n"
   ]
  },
  {
   "cell_type": "code",
   "execution_count": null,
   "metadata": {
    "ExecuteTime": {
     "end_time": "2021-02-24T11:43:53.108891Z",
     "start_time": "2021-02-24T11:43:51.513729Z"
    }
   },
   "outputs": [],
   "source": [
    "#!rm -Rf ~/BiCEP_GUI # remove any existing downloaded files\n",
    "!mkdir -p ~/BiCEP_GUI_files # make space for the examples files\n",
    "!wget -O - https://github.com/bcych/BiCEP_GUI/tarball/master | tar xz -C ~/BiCEP_GUI_files # download the latest files\n",
    "!cp -R ~/BiCEP_GUI_files/*/ ~/BiCEP_GUI\n",
    "!rm -rf BiCEP_GUI_files\n",
    "!chmod u+w -R ~/BiCEP_GUI # add write permissions before updating examples files"
   ]
  },
  {
   "cell_type": "code",
   "execution_count": null,
   "metadata": {
    "ExecuteTime": {
     "end_time": "2021-02-24T11:43:51.511970Z",
     "start_time": "2021-02-24T11:43:49.874010Z"
    }
   },
   "outputs": [],
   "source": [
    "%cd BiCEP_GUI\n",
    "!pip install --user -r requirements.txt # install or upgrade pmagpy in your user packages"
   ]
  },
  {
   "cell_type": "code",
   "execution_count": null,
   "metadata": {
    "ExecuteTime": {
     "end_time": "2021-02-24T11:45:54.535733Z",
     "start_time": "2021-02-24T11:43:56.529215Z"
    }
   },
   "outputs": [],
   "source": [
    "!python compile_models.py"
   ]
  }
 ],
 "metadata": {
  "kernelspec": {
   "display_name": "Python 3",
   "language": "python",
   "name": "python3"
  },
  "language_info": {
   "codemirror_mode": {
    "name": "ipython",
    "version": 3
   },
   "file_extension": ".py",
   "mimetype": "text/x-python",
   "name": "python",
   "nbconvert_exporter": "python",
   "pygments_lexer": "ipython3",
   "version": "3.7.7"
  },
  "varInspector": {
   "cols": {
    "lenName": 16,
    "lenType": 16,
    "lenVar": 40
   },
   "kernels_config": {
    "python": {
     "delete_cmd_postfix": "",
     "delete_cmd_prefix": "del ",
     "library": "var_list.py",
     "varRefreshCmd": "print(var_dic_list())"
    },
    "r": {
     "delete_cmd_postfix": ") ",
     "delete_cmd_prefix": "rm(",
     "library": "var_list.r",
     "varRefreshCmd": "cat(var_dic_list()) "
    }
   },
   "types_to_exclude": [
    "module",
    "function",
    "builtin_function_or_method",
    "instance",
    "_Feature"
   ],
   "window_display": false
  }
 },
 "nbformat": 4,
 "nbformat_minor": 2
}
