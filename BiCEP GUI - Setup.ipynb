{
 "cells": [
  {
   "cell_type": "markdown",
   "metadata": {},
   "source": [
    "# BiCEP GUI Readme\n",
    "\n",
    "## Information\n",
    "\n",
    "- BiCEP GUI is a graphical user interface for the BiCEP method of estimation paleointensity (Cych et al, in prep) using jupyter, ipywidgets, and voila. On the backend, BiCEP uses the python version of stan (pystan).\n",
    "\n",
    "- Planned features include: Changing orientation of Zijderveld plot, ability to save figures separately.\n",
    "\n",
    "## Setup\n",
    "\n",
    "- To use BiCEP GUI, we recommend using the Earthref jupyterhub at http://jupyterhub.earthref.org. To run the GUI from this site, first run the Bicep-GUI-Setup notebook by clicking on this and pressing the run button until you reach the end of the notebook. Note that this setup may take several minutes.\n",
    "\n",
    "![Run button in jupyterhub](https://raw.githubusercontent.com/bcych/BiCEP_GUI/master/readme-image/jupyterhub-run.png)\n",
    "\n",
    "- You will then have a directory called BiCEP_GUI in your jupyterhub. Navigate to this.\n",
    "\n",
    "- Before using BiCEP GUI on your own data, you will need to upload MagIC formatted files containing your paleointensity data. You create these files using pmag_gui, part of the PmagPy package. For help with this, see the tutorial at https://github.com/ltauxe/PmagPy_tutorials\n",
    "\n",
    "- Upload your measurements.txt, specimens.txt, samples.txt and sites.txt files to the BiCEP_GUI directory using the upload button in jupyterhub.\n",
    "\n",
    "![Upload button in jupyterhub](https://raw.githubusercontent.com/bcych/BiCEP_GUI/master/readme-image/jupyterhub-upload.png)\n",
    "\n",
    "## Using BiCEP GUI\n",
    "\n",
    "- Open the BiCEP GUI notebook in your folder. Press the \"App Mode\" button to launch the GUI.\n",
    "\n",
    "- Your MagIC data will automatically be converted to the BiCEP format. A logfile will be output to thellier_convert.log which you can check for errors.\n",
    "\n",
    "![Upload button in jupyterhub](https://raw.githubusercontent.com/bcych/BiCEP_GUI/master/readme-image/jupyterhub-appmode.png)\n",
    "\n",
    "- On launch you should have a GUI with the following layout:\n",
    "\n",
    "![GUI layout](https://raw.githubusercontent.com/bcych/BiCEP_GUI/master/readme-image/GUI_layout.png)\n",
    "\n",
    "1. File selection button. Press select, choose your file, and press select again. Then press \"Run\" to import the data to the GUI. You cannot then select a new file.\n",
    "\n",
    "2. Site and specimen dropdowns. These dropdown menus allow you choose a particular paleointensity experiment.\n",
    "\n",
    "3. Minimum and maximum temperature steps (in Celcius) to use for the paleointensity experiment. We recommend using the Zijderveld plot (6.) and pTRM checks to choose which set of temperatures to use. By default, we use all temperature steps to make a paleointensity estimate. Currently it is required to make an estimate for all specimens.\n",
    "\n",
    "4. Statistics about the direction and alteration of the ChRM used for paleointensity estimation. These may help with choosing which set of temperature steps to use. See the standard paleointensity definitons (Paterson et al, 2014, https://earthref.org/PmagPy/SPD/DL/SPD_v1.1.pdf) for more information on these statistics. In addition to these statistics, we present the worst R_hat diagnostic for a specimen. If R_hat>1.1 or R_hat<0.9, it may indicate an issue with the sampler (see 13.). In this case, this box will show up as red, and the specimen may be excluded using the checkbox (8.))\n",
    "\n",
    "4. Arai plot with zero field first steps plotted as red circles, in field first steps plotted as blue circles, pTRM checks plotted as triangles, and pTRM tail checks plotted as squares. Additivity checks are not currently plotted. Circle fits from the BiCEP method will be plotted as green lines under the Arai plot after the site fit (9) has been performed. All plots can be rescaled using the \"move\" button (3rd symbol from the bottom on left side of plot) and right clicking and dragging, or the \"zoom\" button (2nd symbol from the bottom) and left clicking and dragging to zoom in, or right clicking and dragging to zoom out. The \"home\" button (second symbol from the top) resets the plot axis, as does changing the temperatures.\n",
    "\n",
    "5. Zijderveld plot of the data, with x,y plotted as black circles and x,z plotted as red squares.\n",
    "\n",
    "7. Saves the temperatures used for that specimen to RAM. This must be done for each specimen individually to change temperatures before running the sampler (9.). By default, all temperature steps are used for every specimen.\n",
    "\n",
    "8. Checkbox for excluding a specimen. This should only be done if there is no reasonable interpretation of the specimen (e.g. alteration at low temperature, not demagnetizing to the origin).\n",
    "\n",
    "9. The \"Process Site Data\" button performs the BiCEP method on that site and calculates the site level paleointensity. Depending on the speed of your computer and the sampler parameters used (10), this may take a while to run, especially for sites with many specimens. Please be patient.\n",
    "\n",
    "10. Parameters for the MCMC sampler for the BiCEP method. The \"n samples\" slider increases the number of samples used in the MCMC sampler. Smaller numbers will take less time to run but result in lower accuracy in the resulting probability distribution. The \"Sampler\" button changes the parameterization of the MCMC sampler slightly (mathematically, the model is the same, but the parameters being sampled from are specified slightly differently). The \"Slow, more accurate\" sampler is much slower than the \"Fast, less accurate\" sampler, but generally (though not always) results in better sampler diagnostics than the \"Fast, less accurate\" sampler, particularly for sites with small numbers of specimens.\n",
    "\n",
    "11. Plot of the estimated paleointensity for each specimen against Arai plot curvature. The currently displayed specimen in the Arai and Zijderveld plots has a red circle around it in this plot. The blue lines are samples from the posterior distribution for the relationship between specimen level paleointensity and curvature. The y intercept is the estimated site level paleointensity.\n",
    "\n",
    "12. Histogram of the site level paleointensities sampled from the posterior distribution. This corresponds to the distribution of intercepts of the blue lines in (12.).\n",
    "\n",
    "13. Diagnostics for the MCMC sampler (see Cych et al, in prep. or the Stan Documentation at https://mc-stan.org/docs/2_26/reference-manual/notation-for-samples-chains-and-draws.html, https://mc-stan.org/docs/2_26/reference-manual/effective-sample-size-section.html). 0.9<R_hat<1.1 and n_eff>1000 is desired, with R_hat=1.00 and n_eff>10000 being ideal. Tweak the sampler parameters (10.) or measure more specimens if these parameters give poor results (indicated by an amber color for n_eff<1000 or a red color for bad R_hat). Also displayed here is the 95% credible interval for the site and the Category (see Cych et al once again for an explanation). The color of the category box indicates how to proceed. Green (Category A or B): accept site, Amber (Category C or D): measure more specimens, Red (Category D): ignore site.\n",
    "\n",
    "14. Saves figures to file. Currently the Zijderveld plot and Arai plot have to be saved together (as do both site plots).\n",
    "\n",
    "15. Saves the results from the BiCEP method to the MagIC tables (site and specimen tables are altered).\n",
    "\n",
    "## Attributions\n",
    "\n",
    "Paterson, G. A., L. Tauxe, A. J. Biggin, R. Shaar, and L. C. Jonestrask (2014), On improving the selection of Thellier-type paleointensity data, Geochem. Geophys. Geosyst., doi: 10.1002/2013GC005135\n",
    "\n",
    "Stan Development Team. 2021. Stan Modeling Language Users Guide and Reference Manual, 2.26. https://mc-stan.org\n",
    "\n",
    "Tauxe, L., R. Shaar, L. Jonestrask, N. L. Swanson-Hysell, R. Minnett, A. A. P. Koppers, C. G. Constable, N. Jarboe, K. Gaastra, and L. Fairchild (2016), PmagPy: Software package for paleomagnetic data analysis and a bridge to the Magnetics Information Consortium (MagIC) Database, Geochem. Geophys. Geosyst., 17, doi:10.1002/2016GC006307\n",
    "\n",
    "## Licensing\n",
    "PmagPy and Stan are licensed under a 3-clause BSD license. See (https://opensource.org/licenses/BSD-3-Clause)\n",
    "\n",
    "## Contact\n",
    "If you have any issues with this software, feature requests or want to collaborate, feel free to correspond with me at bcych@ucsd.edu or leave an issue or feature request on the github at http://github.com/bcych/BiCEP_GUI\n",
    "\n",
    "## Attributions\n",
    "\n",
    "Paterson, G. A., L. Tauxe, A. J. Biggin, R. Shaar, and L. C. Jonestrask (2014), On improving the selection of Thellier-type paleointensity data, Geochem. Geophys. Geosyst., doi: 10.1002/2013GC005135\n",
    "\n",
    "Stan Development Team. 2021. Stan Modeling Language Users Guide and Reference Manual, 2.26. https://mc-stan.org\n",
    "\n",
    "Tauxe, L., R. Shaar, L. Jonestrask, N. L. Swanson-Hysell, R. Minnett, A. A. P. Koppers, C. G. Constable, N. Jarboe, K. Gaastra, and L. Fairchild (2016), PmagPy: Software package for paleomagnetic data analysis and a bridge to the Magnetics Information Consortium (MagIC) Database, Geochem. Geophys. Geosyst., 17, doi:10.1002/2016GC006307\n",
    "\n",
    "## Licensing\n",
    "PmagPy and Stan are licensed under a 3-clause BSD license. See (https://opensource.org/licenses/BSD-3-Clause)\n",
    "\n",
    "## Contact\n",
    "If you have any issues with this software, feature requests or want to collaborate, feel free to correspond with me at bcych@ucsd.edu or leave an issue or feature request on the github at http://github.com/bcych/BiCEP_GUI\n"
   ]
  },
  {
   "cell_type": "code",
   "execution_count": 1,
   "metadata": {
    "ExecuteTime": {
     "end_time": "2021-02-24T11:43:51.511970Z",
     "start_time": "2021-02-24T11:43:49.874010Z"
    }
   },
   "outputs": [
    {
     "name": "stdout",
     "output_type": "stream",
     "text": [
      "Requirement already up-to-date: pmagpy in ./.local/lib/python3.6/site-packages (4.2.70)\n",
      "Requirement already up-to-date: pystan in ./.local/lib/python3.6/site-packages (2.19.1.1)\n",
      "Requirement already up-to-date: sklearn in ./.local/lib/python3.6/site-packages (0.0)\n",
      "Requirement already up-to-date: ipympl in ./.local/lib/python3.6/site-packages (0.6.3)\n",
      "Requirement already up-to-date: voila in ./.local/lib/python3.6/site-packages (0.2.7)\n",
      "Requirement already up-to-date: tornado in ./.local/lib/python3.6/site-packages (6.1)\n",
      "Requirement already satisfied, skipping upgrade: numpy>=1.7 in /opt/tljh/user/lib/python3.6/site-packages (from pystan) (1.15.0)\n",
      "Requirement already satisfied, skipping upgrade: Cython!=0.25.1,>=0.22 in ./.local/lib/python3.6/site-packages (from pystan) (0.29.22)\n",
      "Requirement already satisfied, skipping upgrade: scikit-learn in ./.local/lib/python3.6/site-packages (from sklearn) (0.24.1)\n",
      "Requirement already satisfied, skipping upgrade: ipykernel>=4.7 in /opt/tljh/user/lib/python3.6/site-packages (from ipympl) (5.1.2)\n",
      "Requirement already satisfied, skipping upgrade: matplotlib>=2.0.0 in /opt/tljh/user/lib/python3.6/site-packages (from ipympl) (2.2.2)\n",
      "Requirement already satisfied, skipping upgrade: ipywidgets>=7.6.0 in ./.local/lib/python3.6/site-packages (from ipympl) (7.6.3)\n",
      "Requirement already satisfied, skipping upgrade: nbclient<0.6,>=0.4.0 in ./.local/lib/python3.6/site-packages (from voila) (0.5.2)\n",
      "Requirement already satisfied, skipping upgrade: jupyter-server<2.0.0,>=0.3.0 in ./.local/lib/python3.6/site-packages (from voila) (1.4.1)\n",
      "Requirement already satisfied, skipping upgrade: nbconvert<7,>=6.0.0 in ./.local/lib/python3.6/site-packages (from voila) (6.0.7)\n",
      "Requirement already satisfied, skipping upgrade: jupyter-client<7,>=6.1.3 in ./.local/lib/python3.6/site-packages (from voila) (6.1.11)\n",
      "Requirement already satisfied, skipping upgrade: threadpoolctl>=2.0.0 in ./.local/lib/python3.6/site-packages (from scikit-learn->sklearn) (2.1.0)\n",
      "Requirement already satisfied, skipping upgrade: scipy>=0.19.1 in /opt/tljh/user/lib/python3.6/site-packages (from scikit-learn->sklearn) (1.1.0)\n",
      "Requirement already satisfied, skipping upgrade: joblib>=0.11 in ./.local/lib/python3.6/site-packages (from scikit-learn->sklearn) (1.0.1)\n",
      "Requirement already satisfied, skipping upgrade: ipython>=5.0.0 in /opt/tljh/user/lib/python3.6/site-packages (from ipykernel>=4.7->ipympl) (7.2.0)\n",
      "Requirement already satisfied, skipping upgrade: traitlets>=4.1.0 in /opt/tljh/user/lib/python3.6/site-packages (from ipykernel>=4.7->ipympl) (4.3.3)\n",
      "Requirement already satisfied, skipping upgrade: pyparsing!=2.0.4,!=2.1.2,!=2.1.6,>=2.0.1 in /opt/tljh/user/lib/python3.6/site-packages (from matplotlib>=2.0.0->ipympl) (2.4.2)\n",
      "Requirement already satisfied, skipping upgrade: six>=1.10 in /opt/tljh/user/lib/python3.6/site-packages (from matplotlib>=2.0.0->ipympl) (1.12.0)\n",
      "Requirement already satisfied, skipping upgrade: kiwisolver>=1.0.1 in /opt/tljh/user/lib/python3.6/site-packages (from matplotlib>=2.0.0->ipympl) (1.1.0)\n",
      "Requirement already satisfied, skipping upgrade: cycler>=0.10 in /opt/tljh/user/lib/python3.6/site-packages (from matplotlib>=2.0.0->ipympl) (0.10.0)\n",
      "Requirement already satisfied, skipping upgrade: python-dateutil>=2.1 in /opt/tljh/user/lib/python3.6/site-packages (from matplotlib>=2.0.0->ipympl) (2.8.0)\n",
      "Requirement already satisfied, skipping upgrade: pytz in /opt/tljh/user/lib/python3.6/site-packages (from matplotlib>=2.0.0->ipympl) (2019.3)\n",
      "Requirement already satisfied, skipping upgrade: jupyterlab-widgets>=1.0.0; python_version >= \"3.6\" in ./.local/lib/python3.6/site-packages (from ipywidgets>=7.6.0->ipympl) (1.0.0)\n",
      "Requirement already satisfied, skipping upgrade: nbformat>=4.2.0 in ./.local/lib/python3.6/site-packages (from ipywidgets>=7.6.0->ipympl) (5.1.2)\n",
      "Requirement already satisfied, skipping upgrade: widgetsnbextension~=3.5.0 in /opt/tljh/user/lib/python3.6/site-packages (from ipywidgets>=7.6.0->ipympl) (3.5.1)\n",
      "Requirement already satisfied, skipping upgrade: async-generator in /opt/tljh/user/lib/python3.6/site-packages (from nbclient<0.6,>=0.4.0->voila) (1.10)\n",
      "Requirement already satisfied, skipping upgrade: nest-asyncio in ./.local/lib/python3.6/site-packages (from nbclient<0.6,>=0.4.0->voila) (1.5.1)\n",
      "Requirement already satisfied, skipping upgrade: prometheus-client in /opt/tljh/user/lib/python3.6/site-packages (from jupyter-server<2.0.0,>=0.3.0->voila) (0.7.1)\n",
      "Requirement already satisfied, skipping upgrade: ipython-genutils in /opt/tljh/user/lib/python3.6/site-packages (from jupyter-server<2.0.0,>=0.3.0->voila) (0.2.0)\n",
      "Requirement already satisfied, skipping upgrade: anyio>=2.0.2 in ./.local/lib/python3.6/site-packages (from jupyter-server<2.0.0,>=0.3.0->voila) (2.1.0)\n",
      "Requirement already satisfied, skipping upgrade: jupyter-core>=4.4.0 in /opt/tljh/user/lib/python3.6/site-packages (from jupyter-server<2.0.0,>=0.3.0->voila) (4.6.0)\n",
      "Requirement already satisfied, skipping upgrade: Send2Trash in /opt/tljh/user/lib/python3.6/site-packages (from jupyter-server<2.0.0,>=0.3.0->voila) (1.5.0)\n",
      "Requirement already satisfied, skipping upgrade: terminado>=0.8.3 in ./.local/lib/python3.6/site-packages (from jupyter-server<2.0.0,>=0.3.0->voila) (0.9.2)\n",
      "Requirement already satisfied, skipping upgrade: jinja2 in /opt/tljh/user/lib/python3.6/site-packages (from jupyter-server<2.0.0,>=0.3.0->voila) (2.10.3)\n",
      "Requirement already satisfied, skipping upgrade: pyzmq>=17 in /opt/tljh/user/lib/python3.6/site-packages (from jupyter-server<2.0.0,>=0.3.0->voila) (18.1.0)\n",
      "Requirement already satisfied, skipping upgrade: entrypoints>=0.2.2 in /opt/tljh/user/lib/python3.6/site-packages (from nbconvert<7,>=6.0.0->voila) (0.3)\n",
      "Requirement already satisfied, skipping upgrade: testpath in /opt/tljh/user/lib/python3.6/site-packages (from nbconvert<7,>=6.0.0->voila) (0.4.2)\n",
      "Requirement already satisfied, skipping upgrade: pygments>=2.4.1 in /opt/tljh/user/lib/python3.6/site-packages (from nbconvert<7,>=6.0.0->voila) (2.4.2)\n",
      "Requirement already satisfied, skipping upgrade: bleach in /opt/tljh/user/lib/python3.6/site-packages (from nbconvert<7,>=6.0.0->voila) (3.1.0)\n",
      "Requirement already satisfied, skipping upgrade: pandocfilters>=1.4.1 in /opt/tljh/user/lib/python3.6/site-packages (from nbconvert<7,>=6.0.0->voila) (1.4.2)\n",
      "Requirement already satisfied, skipping upgrade: jupyterlab-pygments in ./.local/lib/python3.6/site-packages (from nbconvert<7,>=6.0.0->voila) (0.1.2)\n",
      "Requirement already satisfied, skipping upgrade: mistune<2,>=0.8.1 in /opt/tljh/user/lib/python3.6/site-packages (from nbconvert<7,>=6.0.0->voila) (0.8.4)\n",
      "Requirement already satisfied, skipping upgrade: defusedxml in /opt/tljh/user/lib/python3.6/site-packages (from nbconvert<7,>=6.0.0->voila) (0.6.0)\n",
      "Requirement already satisfied, skipping upgrade: prompt-toolkit<2.1.0,>=2.0.0 in /opt/tljh/user/lib/python3.6/site-packages (from ipython>=5.0.0->ipykernel>=4.7->ipympl) (2.0.10)\n",
      "Requirement already satisfied, skipping upgrade: pexpect; sys_platform != \"win32\" in /opt/tljh/user/lib/python3.6/site-packages (from ipython>=5.0.0->ipykernel>=4.7->ipympl) (4.7.0)\n",
      "Requirement already satisfied, skipping upgrade: pickleshare in /opt/tljh/user/lib/python3.6/site-packages (from ipython>=5.0.0->ipykernel>=4.7->ipympl) (0.7.5)\n",
      "Requirement already satisfied, skipping upgrade: backcall in /opt/tljh/user/lib/python3.6/site-packages (from ipython>=5.0.0->ipykernel>=4.7->ipympl) (0.1.0)\n",
      "Requirement already satisfied, skipping upgrade: jedi>=0.10 in /opt/tljh/user/lib/python3.6/site-packages (from ipython>=5.0.0->ipykernel>=4.7->ipympl) (0.15.1)\n",
      "Requirement already satisfied, skipping upgrade: setuptools>=18.5 in /opt/tljh/user/lib/python3.6/site-packages (from ipython>=5.0.0->ipykernel>=4.7->ipympl) (41.4.0)\n",
      "Requirement already satisfied, skipping upgrade: decorator in /opt/tljh/user/lib/python3.6/site-packages (from ipython>=5.0.0->ipykernel>=4.7->ipympl) (4.4.0)\n",
      "Requirement already satisfied, skipping upgrade: jsonschema!=2.5.0,>=2.4 in /opt/tljh/user/lib/python3.6/site-packages (from nbformat>=4.2.0->ipywidgets>=7.6.0->ipympl) (3.1.1)\n",
      "Requirement already satisfied, skipping upgrade: notebook>=4.4.1 in /opt/tljh/user/lib/python3.6/site-packages (from widgetsnbextension~=3.5.0->ipywidgets>=7.6.0->ipympl) (5.7.8)\n",
      "Requirement already satisfied, skipping upgrade: idna>=2.8 in /opt/tljh/user/lib/python3.6/site-packages (from anyio>=2.0.2->jupyter-server<2.0.0,>=0.3.0->voila) (2.8)\n",
      "Requirement already satisfied, skipping upgrade: dataclasses; python_version < \"3.7\" in ./.local/lib/python3.6/site-packages (from anyio>=2.0.2->jupyter-server<2.0.0,>=0.3.0->voila) (0.8)\n",
      "Requirement already satisfied, skipping upgrade: typing-extensions; python_version < \"3.8\" in ./.local/lib/python3.6/site-packages (from anyio>=2.0.2->jupyter-server<2.0.0,>=0.3.0->voila) (3.7.4.3)\n",
      "Requirement already satisfied, skipping upgrade: sniffio>=1.1 in ./.local/lib/python3.6/site-packages (from anyio>=2.0.2->jupyter-server<2.0.0,>=0.3.0->voila) (1.2.0)\n",
      "Requirement already satisfied, skipping upgrade: ptyprocess; os_name != \"nt\" in /opt/tljh/user/lib/python3.6/site-packages (from terminado>=0.8.3->jupyter-server<2.0.0,>=0.3.0->voila) (0.6.0)\n",
      "Requirement already satisfied, skipping upgrade: MarkupSafe>=0.23 in /opt/tljh/user/lib/python3.6/site-packages (from jinja2->jupyter-server<2.0.0,>=0.3.0->voila) (1.1.1)\n",
      "Requirement already satisfied, skipping upgrade: webencodings in /opt/tljh/user/lib/python3.6/site-packages (from bleach->nbconvert<7,>=6.0.0->voila) (0.5.1)\n",
      "Requirement already satisfied, skipping upgrade: wcwidth in /opt/tljh/user/lib/python3.6/site-packages (from prompt-toolkit<2.1.0,>=2.0.0->ipython>=5.0.0->ipykernel>=4.7->ipympl) (0.1.7)\n",
      "Requirement already satisfied, skipping upgrade: parso>=0.5.0 in /opt/tljh/user/lib/python3.6/site-packages (from jedi>=0.10->ipython>=5.0.0->ipykernel>=4.7->ipympl) (0.5.1)\n",
      "Requirement already satisfied, skipping upgrade: importlib-metadata in /opt/tljh/user/lib/python3.6/site-packages (from jsonschema!=2.5.0,>=2.4->nbformat>=4.2.0->ipywidgets>=7.6.0->ipympl) (0.23)\n"
     ]
    },
    {
     "name": "stdout",
     "output_type": "stream",
     "text": [
      "Requirement already satisfied, skipping upgrade: attrs>=17.4.0 in /opt/tljh/user/lib/python3.6/site-packages (from jsonschema!=2.5.0,>=2.4->nbformat>=4.2.0->ipywidgets>=7.6.0->ipympl) (19.3.0)\r\n",
      "Requirement already satisfied, skipping upgrade: pyrsistent>=0.14.0 in /opt/tljh/user/lib/python3.6/site-packages (from jsonschema!=2.5.0,>=2.4->nbformat>=4.2.0->ipywidgets>=7.6.0->ipympl) (0.15.4)\r\n",
      "Requirement already satisfied, skipping upgrade: contextvars>=2.1; python_version < \"3.7\" in ./.local/lib/python3.6/site-packages (from sniffio>=1.1->anyio>=2.0.2->jupyter-server<2.0.0,>=0.3.0->voila) (2.4)\r\n",
      "Requirement already satisfied, skipping upgrade: zipp>=0.5 in /opt/tljh/user/lib/python3.6/site-packages (from importlib-metadata->jsonschema!=2.5.0,>=2.4->nbformat>=4.2.0->ipywidgets>=7.6.0->ipympl) (0.6.0)\r\n",
      "Requirement already satisfied, skipping upgrade: immutables>=0.9 in ./.local/lib/python3.6/site-packages (from contextvars>=2.1; python_version < \"3.7\"->sniffio>=1.1->anyio>=2.0.2->jupyter-server<2.0.0,>=0.3.0->voila) (0.15)\r\n",
      "Requirement already satisfied, skipping upgrade: more-itertools in /opt/tljh/user/lib/python3.6/site-packages (from zipp>=0.5->importlib-metadata->jsonschema!=2.5.0,>=2.4->nbformat>=4.2.0->ipywidgets>=7.6.0->ipympl) (7.2.0)\r\n"
     ]
    }
   ],
   "source": [
    "!pip install pmagpy pystan sklearn ipympl voila tornado --user --upgrade # install or upgrade pmagpy in your user packages"
   ]
  },
  {
   "cell_type": "code",
   "execution_count": 2,
   "metadata": {
    "ExecuteTime": {
     "end_time": "2021-02-24T11:43:53.108891Z",
     "start_time": "2021-02-24T11:43:51.513729Z"
    }
   },
   "outputs": [
    {
     "name": "stdout",
     "output_type": "stream",
     "text": [
      "--2021-02-24 11:43:51--  https://github.com/bcych/BiCEP_GUI/tarball/master\n",
      "Resolving github.com (github.com)... 192.30.255.112\n",
      "Connecting to github.com (github.com)|192.30.255.112|:443... connected.\n",
      "HTTP request sent, awaiting response... 302 Found\n",
      "Location: https://codeload.github.com/bcych/BiCEP_GUI/legacy.tar.gz/master [following]\n",
      "--2021-02-24 11:43:51--  https://codeload.github.com/bcych/BiCEP_GUI/legacy.tar.gz/master\n",
      "Resolving codeload.github.com (codeload.github.com)... 192.30.255.120\n",
      "Connecting to codeload.github.com (codeload.github.com)|192.30.255.120|:443... connected.\n",
      "HTTP request sent, awaiting response... 200 OK\n",
      "Length: unspecified [application/x-gzip]\n",
      "Saving to: ‘STDOUT’\n",
      "\n",
      "-                       [  <=>               ]   1.56M  3.73MB/s    in 0.4s    \n",
      "\n",
      "2021-02-24 11:43:52 (3.73 MB/s) - written to stdout [1636353]\n",
      "\n"
     ]
    }
   ],
   "source": [
    "!rm -Rf ~/BiCEP_GUI # remove any existing downloaded files\n",
    "!mkdir -p ~/BiCEP_GUI_files # make space for the examples files\n",
    "!wget -O - https://github.com/bcych/BiCEP_GUI/tarball/master | tar xz -C ~/BiCEP_GUI_files # download the latest files\n",
    "!cp -R ~/BiCEP_GUI_files/*/ ~/BiCEP_GUI\n",
    "!rm -rf BiCEP_GUI_files\n",
    "!chmod u+w -R ~/BiCEP_GUI # add write permissions before updating examples files"
   ]
  },
  {
   "cell_type": "code",
   "execution_count": 3,
   "metadata": {
    "ExecuteTime": {
     "end_time": "2021-02-24T11:45:54.535733Z",
     "start_time": "2021-02-24T11:43:56.529215Z"
    }
   },
   "outputs": [
    {
     "name": "stdout",
     "output_type": "stream",
     "text": [
      "This script compiles the stan C++ models for MCMC sampling from the posterior. Please be patient\n",
      "INFO:pystan:COMPILING THE C++ CODE FOR MODEL anon_model_076a774a2b027586a742376fd5f53fbd NOW.\n",
      "INFO:pystan:COMPILING THE C++ CODE FOR MODEL anon_model_2e6a8155c2b8d5efe680ba30cc148b48 NOW.\n",
      "Models successfully compiled!\n"
     ]
    }
   ],
   "source": [
    "!python BiCEP_GUI/compile_models.py\n",
    "!cp -R ~/*.pkl ~/BiCEP_GUI"
   ]
  },
  {
   "cell_type": "code",
   "execution_count": null,
   "metadata": {},
   "outputs": [],
   "source": []
  }
 ],
 "metadata": {
  "kernelspec": {
   "display_name": "Python 3",
   "language": "python",
   "name": "python3"
  },
  "language_info": {
   "codemirror_mode": {
    "name": "ipython",
    "version": 3
   },
   "file_extension": ".py",
   "mimetype": "text/x-python",
   "name": "python",
   "nbconvert_exporter": "python",
   "pygments_lexer": "ipython3",
   "version": "3.7.4"
  },
  "varInspector": {
   "cols": {
    "lenName": 16,
    "lenType": 16,
    "lenVar": 40
   },
   "kernels_config": {
    "python": {
     "delete_cmd_postfix": "",
     "delete_cmd_prefix": "del ",
     "library": "var_list.py",
     "varRefreshCmd": "print(var_dic_list())"
    },
    "r": {
     "delete_cmd_postfix": ") ",
     "delete_cmd_prefix": "rm(",
     "library": "var_list.r",
     "varRefreshCmd": "cat(var_dic_list()) "
    }
   },
   "types_to_exclude": [
    "module",
    "function",
    "builtin_function_or_method",
    "instance",
    "_Feature"
   ],
   "window_display": false
  }
 },
 "nbformat": 4,
 "nbformat_minor": 2
}
